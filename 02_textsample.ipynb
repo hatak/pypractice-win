{
 "nbformat": 4,
 "nbformat_minor": 2,
 "metadata": {
  "language_info": {
   "name": "python",
   "codemirror_mode": {
    "name": "ipython",
    "version": 3
   },
   "version": "3.7.6-final"
  },
  "orig_nbformat": 2,
  "file_extension": ".py",
  "mimetype": "text/x-python",
  "name": "python",
  "npconvert_exporter": "python",
  "pygments_lexer": "ipython3",
  "version": 3,
  "kernelspec": {
   "name": "python37664bitvenvvenv03434cd75c02408e9e4ffaaf14485b53",
   "display_name": "Python 3.7.6 64-bit ('venv': venv)"
  }
 },
 "cells": [
  {
   "cell_type": "code",
   "execution_count": 2,
   "metadata": {},
   "outputs": [
    {
     "name": "stdout",
     "output_type": "stream",
     "text": "テキストデータ1\nテキストデータ2\n"
    }
   ],
   "source": [
    "text1 = \"テキストデータ1\"\n",
    "text2 = 'テキストデータ2'\n",
    "\n",
    "print(text1)\n",
    "print(text2)"
   ]
  },
  {
   "cell_type": "code",
   "execution_count": 3,
   "metadata": {},
   "outputs": [
    {
     "name": "stdout",
     "output_type": "stream",
     "text": "「テキスト\nデータ」\n"
    }
   ],
   "source": [
    "print(\"「テキスト\\nデータ」\")"
   ]
  },
  {
   "cell_type": "code",
   "execution_count": 13,
   "metadata": {},
   "outputs": [
    {
     "name": "stdout",
     "output_type": "stream",
     "text": "n\nSoftware\nware\nSoftware\nDesign\nSoftware Design\n"
    }
   ],
   "source": [
    "text = 'Software Design'\n",
    "\n",
    "print(text[-1])\n",
    "print(text[0:8])\n",
    "print(text[-11:-7])\n",
    "print(text[:8])\n",
    "print(text[9:])\n",
    "print(text[:])"
   ]
  },
  {
   "cell_type": "code",
   "execution_count": 23,
   "metadata": {},
   "outputs": [
    {
     "name": "stdout",
     "output_type": "stream",
     "text": "生徒1 10,20,30\n生徒2 40,30,20\n生徒3 25,30,40\n\n['生徒1 10,20,30', '生徒2 40,30,20', '生徒3 25,30,40']\n[['生徒1', '10,20,30'], ['生徒2', '40,30,20'], ['生徒3', '25,30,40']]\n[['生徒1', ['10', '20', '30']], ['生徒2', ['40', '30', '20']], ['生徒3', ['25', '30', '40']]]\n生徒1 's average score is  20.0\n生徒2 's average score is  30.0\n生徒3 's average score is  31.666666666666668\n"
    }
   ],
   "source": [
    "text = '''生徒1 10,20,30\n",
    "生徒2 40,30,20\n",
    "生徒3 25,30,40\n",
    "'''\n",
    "\n",
    "# そのまま\n",
    "print(text)\n",
    "\n",
    "# 行分割\n",
    "lines = text.splitlines()\n",
    "print(lines)\n",
    "\n",
    "# 名前と成績に分割\n",
    "splitted_lines = []\n",
    "\n",
    "for line in lines:\n",
    "    splitted = line.split()\n",
    "    splitted_lines.append(splitted)\n",
    "\n",
    "print(splitted_lines)\n",
    "\n",
    "# 名前と成績リストに分割\n",
    "scores = []\n",
    "\n",
    "for student in splitted_lines:\n",
    "    name = student[0]\n",
    "    splitted_scores = student[1].split(',')\n",
    "    scores.append([name, splitted_scores])\n",
    "\n",
    "print(scores)\n",
    "\n",
    "# 成績算出\n",
    "for line in scores:\n",
    "    name = line[0]\n",
    "    english = line[1][0]\n",
    "    math = line[1][1]\n",
    "    language = line[1][2]\n",
    "\n",
    "    avg = (int(english) + int(math) + int(language)) / 3\n",
    "\n",
    "    print(name, \"'s average score is \", avg)"
   ]
  },
  {
   "cell_type": "code",
   "execution_count": null,
   "metadata": {},
   "outputs": [],
   "source": [
    "text = f'3たす4は{3+4}'\n",
    "print(text)\n",
    "\n",
    "a = 10\n",
    "b = 20\n",
    "c = 30\n",
    "print(f'a, b, c の合計は{sum([a,b,c])}です')"
   ]
  },
  {
   "cell_type": "code",
   "execution_count": 33,
   "metadata": {},
   "outputs": [
    {
     "name": "stdout",
     "output_type": "stream",
     "text": "年度 | 売上\n-----+---------------\n2015 |  149,820,000\n2016 |      253,000\n2017 |        9,822\n2018 |   91,273,000\n\n"
    }
   ],
   "source": [
    "sales = [149820000, 253000, 9822, 91273000]\n",
    "\n",
    "print(f'''年度 | 売上\n",
    "-----+---------------\n",
    "2015 | {sales[0]:12,}\n",
    "2016 | {sales[1]:12,}\n",
    "2017 | {sales[2]:12,}\n",
    "2018 | {sales[3]:12,}\n",
    "''')"
   ]
  },
  {
   "cell_type": "code",
   "execution_count": 35,
   "metadata": {},
   "outputs": [
    {
     "name": "stdout",
     "output_type": "stream",
     "text": "apple is pineapple!\n2\n"
    }
   ],
   "source": [
    "if 'apple' in 'pineapple':\n",
    "    print('apple is pineapple!')"
   ]
  },
  {
   "cell_type": "code",
   "execution_count": 36,
   "metadata": {},
   "outputs": [
    {
     "name": "stdout",
     "output_type": "stream",
     "text": "2\n-1\n"
    }
   ],
   "source": [
    "text = '東京特許許可局'\n",
    "print(text.find('特許'))\n",
    "print(text.find('柿'))"
   ]
  },
  {
   "cell_type": "code",
   "execution_count": 41,
   "metadata": {},
   "outputs": [
    {
     "name": "stdout",
     "output_type": "stream",
     "text": "Hello!\nHello!\nHello!\nworld!\n"
    }
   ],
   "source": [
    "text = 'Hello world!'\n",
    "if text.find('Hello') == 0:\n",
    "    print('Hello!')\n",
    "\n",
    "if text.startswith('Hello'):\n",
    "    print('Hello!')\n",
    "\n",
    "if text.startswith(('Hello', 'こんにちは')):\n",
    "    print('Hello!')"
   ]
  },
  {
   "cell_type": "code",
   "execution_count": 42,
   "metadata": {},
   "outputs": [
    {
     "name": "stdout",
     "output_type": "stream",
     "text": "world!\ndog_and_cat.jpeg は画像ファイルです\n"
    }
   ],
   "source": [
    "text = 'Hello world'\n",
    "\n",
    "if text.endswith('world'):\n",
    "    print('world!')\n",
    "\n",
    "filename = 'dog_and_cat.jpeg'\n",
    "\n",
    "if filename.endswith(('.jpg', '.jpeg', '.png')):\n",
    "    print(f'{filename} は画像ファイルです')"
   ]
  },
  {
   "cell_type": "code",
   "execution_count": null,
   "metadata": {},
   "outputs": [],
   "source": []
  }
 ]
}